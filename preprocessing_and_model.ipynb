{
 "cells": [
  {
   "cell_type": "code",
   "execution_count": null,
   "metadata": {},
   "outputs": [],
   "source": [
    "import pandas as pd\n",
    "from sklearn.preprocessing import OrdinalEncoder\n",
    "import statistics\n",
    "import matplotlib.pyplot as plt\n",
    "import seaborn as sns\n",
    "import numpy as np\n",
    "from sklearn.tree import DecisionTreeRegressor\n",
    "from sklearn.ensemble import ExtraTreesRegressor, RandomForestRegressor, AdaBoostRegressor, GradientBoostingRegressor\n",
    "from xgboost import XGBRegressor\n",
    "import pickle\n",
    "from sklearn.model_selection import train_test_split\n",
    "from sklearn.metrics import mean_absolute_error, mean_squared_error, r2_score\n",
    "from sklearn.model_selection import GridSearchCV\n",
    "import warnings\n",
    "from sklearn.preprocessing import StandardScaler\n",
    "warnings.filterwarnings('ignore')"
   ]
  },
  {
   "cell_type": "code",
   "execution_count": null,
   "metadata": {},
   "outputs": [],
   "source": [
    "d2 = pd.read_csv(r\"D:\\datascience\\Singapore_resale_price_project\\ResaleFlatPricesBasedonApprovalDate2000Feb2012.csv\")\n",
    "d1 = pd.read_csv(r\"D:\\datascience\\Singapore_resale_price_project\\ResaleFlatPricesBasedonApprovalDate19901999.csv\")\n",
    "d4 = pd.read_csv(r\"D:\\datascience\\Singapore_resale_price_project\\ResaleFlatPricesBasedonRegistrationDateFromJan2015toDec2016.csv\")\n",
    "d5 = pd.read_csv(r\"D:\\datascience\\Singapore_resale_price_project\\ResaleflatpricesbasedonregistrationdatefromJan2017onwards.csv\")\n",
    "d3 = pd.read_csv(r\"D:\\datascience\\Singapore_resale_price_project\\ResaleFlatPricesBasedonRegistrationDateFromMar2012toDec2014.csv\")"
   ]
  },
  {
   "cell_type": "code",
   "execution_count": null,
   "metadata": {},
   "outputs": [],
   "source": [
    "d4"
   ]
  },
  {
   "cell_type": "code",
   "execution_count": null,
   "metadata": {},
   "outputs": [],
   "source": [
    "d5.isna().sum()"
   ]
  },
  {
   "cell_type": "code",
   "execution_count": null,
   "metadata": {},
   "outputs": [],
   "source": [
    "df = pd.concat((d1, d2, d3, d4, d5), axis = 0)\n",
    "df"
   ]
  },
  {
   "cell_type": "code",
   "execution_count": null,
   "metadata": {},
   "outputs": [],
   "source": [
    "df.isnull().sum()"
   ]
  },
  {
   "cell_type": "code",
   "execution_count": null,
   "metadata": {},
   "outputs": [],
   "source": [
    "df1 = df.dropna()\n",
    "df1"
   ]
  },
  {
   "cell_type": "code",
   "execution_count": null,
   "metadata": {},
   "outputs": [],
   "source": [
    "df1.isnull().sum()"
   ]
  },
  {
   "cell_type": "code",
   "execution_count": null,
   "metadata": {},
   "outputs": [],
   "source": [
    "df1['remaining_lease_year'] = 99-(2024- df1['lease_commence_date'])\n",
    "df1 = df1.drop('remaining_lease' , axis = 1, inplace= False)\n",
    "\n",
    "df1['flat_type'] = df1['flat_type'].replace('MULTI GENERATION', 'MULTI-GENERATION')\n",
    "\n",
    "df1['flat_model'] = df1['flat_model'].replace('IMPROVED', 'Improved')\n",
    "df1['flat_model'] = df1['flat_model'].replace('IMPROVED-MAISONETTE', 'Improved-Maisonette')\n",
    "df1['flat_model'] = df1['flat_model'].replace('2-ROOM', '2-room')\n",
    "df1['flat_model'] = df1['flat_model'].replace('PREMIUM APARTMENT', 'Premium Apartment')\n",
    "df1['flat_model'] = df1['flat_model'].replace('MAISONETTE', 'Maisonette')\n",
    "df1['flat_model'] = df1['flat_model'].replace('MODEL A-MAISONETTE', 'Model A-Maisonette')\n",
    "df1['flat_model'] = df1['flat_model'].replace('MODEL A', 'Model A')\n",
    "df1['flat_model'] = df1['flat_model'].replace('NEW GENERATION', 'New Generation')\n",
    "df1['flat_model'] = df1['flat_model'].replace('STANDARD', 'Standard')\n",
    "df1['flat_model'] = df1['flat_model'].replace('APARTMENT', 'Apartment')\n",
    "df1['flat_model'] = df1['flat_model'].replace('MULTI GENERATION', 'Multi Generation')\n",
    "df1['flat_model'] = df1['flat_model'].replace('SIMPLIFIED', 'Simplified')"
   ]
  },
  {
   "cell_type": "code",
   "execution_count": null,
   "metadata": {},
   "outputs": [],
   "source": [
    "df1['flat_type'].unique()\n",
    "df1['flat_model'].unique()\n",
    "df1['town'].unique()"
   ]
  },
  {
   "cell_type": "code",
   "execution_count": null,
   "metadata": {},
   "outputs": [],
   "source": [
    "df1['flat_type_enc'] = OrdinalEncoder().fit_transform(df1[['flat_type']])\n",
    "\n",
    "df1['flat_model_enc'] = OrdinalEncoder().fit_transform(df1[['flat_model']])\n",
    "\n",
    "df1['town_enc'] = OrdinalEncoder().fit_transform(df1[['town']])"
   ]
  },
  {
   "cell_type": "code",
   "execution_count": null,
   "metadata": {},
   "outputs": [],
   "source": [
    "df1['flat_type_enc'].unique()\n",
    "df1['flat_model_enc'].unique()\n",
    "df1['town_enc'].unique()"
   ]
  },
  {
   "cell_type": "code",
   "execution_count": null,
   "metadata": {},
   "outputs": [],
   "source": [
    "def median_val(val):\n",
    "    k = [float(i) for i in val.split(\"TO\")]\n",
    "    m = statistics.median(k)\n",
    "    return m\n",
    "\n",
    "df1['story_range_med'] = df1['storey_range'].apply(median_val)"
   ]
  },
  {
   "cell_type": "code",
   "execution_count": null,
   "metadata": {},
   "outputs": [],
   "source": [
    "df1.isnull().sum()"
   ]
  },
  {
   "cell_type": "code",
   "execution_count": null,
   "metadata": {},
   "outputs": [],
   "source": [
    "df1"
   ]
  },
  {
   "cell_type": "code",
   "execution_count": null,
   "metadata": {},
   "outputs": [],
   "source": [
    "df1.columns"
   ]
  },
  {
   "cell_type": "code",
   "execution_count": null,
   "metadata": {},
   "outputs": [],
   "source": [
    "columns = ['month', 'town', 'flat_type', 'block', 'street_name', 'storey_range',\n",
    "       'floor_area_sqm', 'flat_model', 'lease_commence_date', 'resale_price',\n",
    "       'remaining_lease', 'remaining_lease_year']"
   ]
  },
  {
   "cell_type": "code",
   "execution_count": null,
   "metadata": {},
   "outputs": [],
   "source": [
    "df2 = df1.drop_duplicates()"
   ]
  },
  {
   "cell_type": "code",
   "execution_count": null,
   "metadata": {},
   "outputs": [],
   "source": [
    "df2"
   ]
  },
  {
   "cell_type": "code",
   "execution_count": null,
   "metadata": {},
   "outputs": [],
   "source": [
    "df.to_csv(r\"D:\\datascience\\Singapore_resale_price_project\\data.csv\")"
   ]
  },
  {
   "cell_type": "code",
   "execution_count": null,
   "metadata": {},
   "outputs": [],
   "source": [
    "plt.figure(figsize= (15,6))\n",
    "sns.barplot(x = 'town', y = 'resale_price', data = df2)\n",
    "plt.title('Average Price Range per Town')\n",
    "plt.xlabel('Town')\n",
    "plt.ylabel('Resale Price')\n",
    "plt.xticks(rotation = 45)\n",
    "plt.show()"
   ]
  },
  {
   "cell_type": "code",
   "execution_count": null,
   "metadata": {},
   "outputs": [],
   "source": [
    "plt.figure(figsize= (15,6))\n",
    "sns.barplot(x = 'flat_type', y = 'resale_price', data = df2)\n",
    "plt.title('Average Price Range per Type')\n",
    "plt.xlabel('Flat Type')\n",
    "plt.ylabel('Resale Price')\n",
    "plt.xticks(rotation = 45)\n",
    "plt.show()"
   ]
  },
  {
   "cell_type": "code",
   "execution_count": null,
   "metadata": {},
   "outputs": [],
   "source": [
    "df2.describe().T"
   ]
  },
  {
   "cell_type": "code",
   "execution_count": null,
   "metadata": {},
   "outputs": [],
   "source": [
    "a = df2[df2['flat_type'] == '3 ROOM']['resale_price']\n",
    "a.mean()"
   ]
  },
  {
   "cell_type": "code",
   "execution_count": null,
   "metadata": {},
   "outputs": [],
   "source": [
    "def plot(df, columns):\n",
    "    for i in columns:\n",
    "        plt.figure(figsize=(20,5))\n",
    "        \n",
    "        plt.subplot(1,3,1)\n",
    "        sns.boxplot(df[i])\n",
    "        plt.title(f'Box Plot for {i}')\n",
    "\n",
    "        plt.subplot(1,3,2)\n",
    "        sns.histplot(df[i], kde=True, bins=50)\n",
    "        plt.title(f'Distribution Plot for {i}')\n",
    "\n",
    "        plt.subplot(1,3,3)\n",
    "        sns.violinplot(df[i])\n",
    "        plt.title(f'Violin Plot for {i}')\n",
    "        \n",
    "        plt.show()"
   ]
  },
  {
   "cell_type": "code",
   "execution_count": null,
   "metadata": {},
   "outputs": [],
   "source": [
    "columns = ['floor_area_sqm', 'lease_commence_date', 'resale_price', 'remaining_lease_year', 'flat_type_enc', 'flat_model_enc', 'town_enc', 'story_range_med']\n",
    "plot(df2, columns)"
   ]
  },
  {
   "cell_type": "code",
   "execution_count": null,
   "metadata": {},
   "outputs": [],
   "source": [
    "df3 = df2.copy()\n",
    "\n",
    "df3['story_range_log'] = np.log(df3['story_range_med'])\n",
    "df3['remaining_lease_log'] = np.log(df3['remaining_lease_year'])\n",
    "df3['resale_price_log'] = np.log(df3['resale_price'])\n",
    "df3['lease_commence_date_log'] = np.log(df3['lease_commence_date'])\n",
    "df3['floor_area_log'] = np.log(df3['floor_area_sqm'])"
   ]
  },
  {
   "cell_type": "code",
   "execution_count": null,
   "metadata": {},
   "outputs": [],
   "source": [
    "columns = ['floor_area_log', 'lease_commence_date_log', 'resale_price_log', 'remaining_lease_log', 'flat_type_enc', 'flat_model_enc', 'town_enc', 'story_range_log']\n",
    "plot(df3, columns)"
   ]
  },
  {
   "cell_type": "code",
   "execution_count": null,
   "metadata": {},
   "outputs": [],
   "source": [
    "z_scores = df3.select_dtypes(include=np.number).apply(lambda x: np.abs((x - x.mean()) / x.std()))\n",
    "\n",
    "threshold = 3\n",
    "\n",
    "df4 = df3[(z_scores < threshold).all(axis=1)]\n",
    "\n",
    "df4"
   ]
  },
  {
   "cell_type": "code",
   "execution_count": null,
   "metadata": {},
   "outputs": [],
   "source": [
    "plot(df4, columns)"
   ]
  },
  {
   "cell_type": "code",
   "execution_count": null,
   "metadata": {},
   "outputs": [],
   "source": [
    "def regression(x, y, algorithm):\n",
    "     \n",
    "    x_train, x_test, y_train, y_test = train_test_split(x,y,test_size=0.2,random_state=42)\n",
    "\n",
    "    model = algorithm().fit(x_train, y_train)\n",
    "    y_pred_train = model.predict(x_train)\n",
    "    y_pred_test = model.predict(x_test)\n",
    "    r2_train = r2_score(y_train, y_pred_train)\n",
    "    r2_test = r2_score(y_test, y_pred_test)\n",
    "\n",
    "\n",
    "    accuracy_metrics = {'algorithm': algorithm.__name__,\n",
    "                        'R2_train' : r2_train,\n",
    "                        'R2_test'  : r2_test}\n",
    "\n",
    "    return accuracy_metric"
   ]
  },
  {
   "cell_type": "code",
   "execution_count": null,
   "metadata": {},
   "outputs": [],
   "source": [
    "# col = ['floor_area_log', 'lease_commence_date_log', 'resale_price_log', 'town_enc', 'story_range_log']\n",
    "columns = ['floor_area_log', 'lease_commence_date_log', 'remaining_lease_log', 'flat_type_enc', 'flat_model_enc', 'town_enc', 'story_range_log', 'resale_price_log']\n",
    "dff = df4[columns]"
   ]
  },
  {
   "cell_type": "code",
   "execution_count": null,
   "metadata": {},
   "outputs": [],
   "source": [
    "columns = ['floor_area_log',  'remaining_lease_log', 'flat_type_enc', 'flat_model_enc', 'town_enc', 'story_range_log', 'resale_price_log']\n",
    "dff = df4[columns]"
   ]
  },
  {
   "cell_type": "code",
   "execution_count": null,
   "metadata": {},
   "outputs": [],
   "source": [
    "dff"
   ]
  },
  {
   "cell_type": "code",
   "execution_count": null,
   "metadata": {},
   "outputs": [],
   "source": [
    "dff.describe().T"
   ]
  },
  {
   "cell_type": "code",
   "execution_count": null,
   "metadata": {},
   "outputs": [],
   "source": [
    "x = dff.drop('resale_price_log', axis = 1)\n",
    "y = dff['resale_price_log']\n",
    "scaler = StandardScaler()\n",
    "x = scaler.fit_transform(x)"
   ]
  },
  {
   "cell_type": "code",
   "execution_count": null,
   "metadata": {},
   "outputs": [],
   "source": [
    "x"
   ]
  },
  {
   "cell_type": "code",
   "execution_count": null,
   "metadata": {},
   "outputs": [],
   "source": [
    "corr = dff.corr()\n",
    "plt.figure(figsize=(10, 8))\n",
    "sns.heatmap(corr, annot=True, cmap='coolwarm', fmt=\".2f\")\n",
    "plt.title('Correlation Matrix Heatmap')\n",
    "plt.show()"
   ]
  },
  {
   "cell_type": "code",
   "execution_count": null,
   "metadata": {},
   "outputs": [],
   "source": [
    "print(regression(x, y, DecisionTreeRegressor))\n",
    "print(regression(x, y, ExtraTreesRegressor))\n",
    "print(regression(x, y, RandomForestRegressor))\n",
    "print(regression(x, y, AdaBoostRegressor))\n",
    "print(regression(x, y, GradientBoostingRegressor))\n",
    "print(regression(x, y, XGBRegressor))"
   ]
  },
  {
   "cell_type": "code",
   "execution_count": null,
   "metadata": {},
   "outputs": [],
   "source": [
    "X_train, X_test, y_train, y_test = train_test_split(x, y, test_size=0.2, random_state=42)\n",
    "\n",
    "param_grid = {\n",
    "    'n_estimators': [100, 200, 300],\n",
    "    'max_depth': [3, 5, 7],\n",
    "    'learning_rate': [0.1, 0.01, 0.001]\n",
    "}\n",
    "\n",
    "xgb = XGBRegressor()\n",
    "\n",
    "grid_search = GridSearchCV(estimator=xgb, param_grid=param_grid, cv=5, scoring='r2')\n",
    "\n",
    "grid_search.fit(X_train, y_train)\n",
    "\n",
    "best_params = grid_search.best_params_\n",
    "best_score = grid_search.best_score_\n",
    "\n",
    "best_xgb = XGBRegressor(**best_params)\n",
    "best_xgb.fit(X_train, y_train)\n",
    "\n",
    "y_pred = best_xgb.predict(X_test)\n",
    "\n",
    "r2 = r2_score(y_test, y_pred)\n",
    "print(\"Best Parameters:\", best_params)\n",
    "print(\"Best R2 Score:\", best_score)\n",
    "print(\"R2 Score on Test Set:\", r2)"
   ]
  },
  {
   "cell_type": "code",
   "execution_count": null,
   "metadata": {},
   "outputs": [],
   "source": [
    "X_train, X_test, y_train, y_test = train_test_split(x, y, test_size=0.2, random_state=42)\n",
    "\n",
    "param_grid = {\n",
    "    'n_estimators': [100, 200, 300],\n",
    "    'max_depth': [3, 5, 7],\n",
    "    'learning_rate': [0.1, 0.01, 0.001]\n",
    "}\n",
    "\n",
    "xgb = XGBRegressor()\n",
    "\n",
    "grid_search = GridSearchCV(estimator=xgb, param_grid=param_grid, cv=5, scoring='r2')\n",
    "\n",
    "grid_search.fit(X_train, y_train)\n",
    "\n",
    "best_params = grid_search.best_params_\n",
    "best_score = grid_search.best_score_\n",
    "\n",
    "best_xgb = XGBRegressor(**best_params)\n",
    "best_xgb.fit(X_train, y_train)\n",
    "\n",
    "y_pred = best_xgb.predict(X_test)\n",
    "\n",
    "\n",
    "mse = mean_squared_error(y_test, y_pred)\n",
    "rmse = np.sqrt(mse)\n",
    "r2 = r2_score(y_test, y_pred)\n",
    "mae = mean_absolute_error(y_test, y_pred)\n",
    "\n",
    "metrics_r = {'R2': r2,\n",
    "           'Mean Absolute Error': mae,\n",
    "           'Mean Squared Error': mse,\n",
    "           'Root Mean Squared Error': rmse}\n",
    "\n",
    "metrics_r"
   ]
  },
  {
   "cell_type": "code",
   "execution_count": null,
   "metadata": {},
   "outputs": [],
   "source": [
    "X_test"
   ]
  },
  {
   "cell_type": "code",
   "execution_count": null,
   "metadata": {},
   "outputs": [],
   "source": [
    "test_data = np.array([[4.094345, 7.593878, 4.110874, 2.0, 5.0, 0.0, 2.079442]])\n",
    "\n",
    "test_data_scaled = scaler.transform(test_data)\n",
    "\n",
    "y_pred = best_xgb.predict(test_data_scaled)\n",
    "\n",
    "np.exp(y_pred[0])"
   ]
  },
  {
   "cell_type": "code",
   "execution_count": null,
   "metadata": {},
   "outputs": [],
   "source": [
    "test_data = np.array([[np.log(60), np.log(61), 2, 5, 0, np.log(8)]])\n",
    "\n",
    "test_data_scaled = scaler.transform(test_data)\n",
    "\n",
    "y_pred = best_xgb.predict(test_data_scaled)\n",
    "\n",
    "np.exp(y_pred[0])"
   ]
  },
  {
   "cell_type": "code",
   "execution_count": null,
   "metadata": {},
   "outputs": [],
   "source": [
    "np.exp(13.449019)"
   ]
  },
  {
   "cell_type": "code",
   "execution_count": null,
   "metadata": {},
   "outputs": [],
   "source": [
    "test_data = np.array([[4.094345, 4.110874, 2.0, 5.0, 7.0, 2.079442]])\n",
    "\n",
    "test_data_scaled = scaler.transform(test_data)\n",
    "\n",
    "y_pred = best_xgb.predict(test_data_scaled)\n",
    "\n",
    "np.exp(y_pred[0])"
   ]
  },
  {
   "cell_type": "code",
   "execution_count": null,
   "metadata": {},
   "outputs": [],
   "source": [
    "with open(r\"D:\\datascience\\Singapore_resale_price_project\\regression_model_pkl\", 'wb') as f:\n",
    "    pickle.dump(best_xgb, f)\n",
    "\n",
    "with open(r\"D:\\datascience\\Singapore_resale_price_project\\scaler.pkl\", 'wb') as f:\n",
    "    pickle.dump(scaler, f)"
   ]
  },
  {
   "cell_type": "code",
   "execution_count": null,
   "metadata": {},
   "outputs": [],
   "source": [
    "with open(r\"D:\\datascience\\Singapore_resale_price_project\\regression_model_pkl\", 'rb') as f:\n",
    "    model = pickle.load(f)\n",
    "\n",
    "with open(r\"D:\\datascience\\Singapore_resale_price_project\\scaler.pkl\", 'rb') as f:\n",
    "    scaler = pickle.load(f)"
   ]
  },
  {
   "cell_type": "code",
   "execution_count": null,
   "metadata": {},
   "outputs": [],
   "source": [
    "test1 = np.array([[np.log(55), np.log(63), 2, 5, 7, np.log(5)]])\n",
    "\n",
    "t1 = scaler.fit_transform(test1)\n",
    "\n",
    "y_pred1 = model.predict(t1)\n",
    "\n",
    "print(*np.exp(y_pred1))"
   ]
  },
  {
   "cell_type": "code",
   "execution_count": null,
   "metadata": {},
   "outputs": [],
   "source": [
    "test_data = np.array([[4.094345, 4.110874, 3.0, 5.0, 7.0, 2.079442]])\n",
    "\n",
    "test_data_scaled = scaler.transform(test_data)\n",
    "\n",
    "y_pred = model.predict(test_data_scaled)\n",
    "\n",
    "np.exp(y_pred[0])"
   ]
  }
 ],
 "metadata": {
  "language_info": {
   "name": "python"
  }
 },
 "nbformat": 4,
 "nbformat_minor": 2
}
